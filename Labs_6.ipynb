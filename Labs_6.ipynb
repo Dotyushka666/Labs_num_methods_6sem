{
 "cells": [
  {
   "cell_type": "code",
   "execution_count": 2,
   "metadata": {},
   "outputs": [],
   "source": [
    "import numpy as np"
   ]
  },
  {
   "cell_type": "code",
   "execution_count": 18,
   "metadata": {},
   "outputs": [],
   "source": [
    "A2 = [\n",
    "    [-4, 1, -7],\n",
    "    [1, 9, 1],\n",
    "    [-7, 1, 7]\n",
    "    ]\n",
    "eps = 0.01"
   ]
  },
  {
   "cell_type": "code",
   "execution_count": 19,
   "metadata": {},
   "outputs": [],
   "source": [
    "#Поиск максимального ВНЕ главной диагонали элементов\n",
    "def max_no_diag(A):\n",
    "    row = len(A)\n",
    "    col = len(A[0])\n",
    "    i_max = 0\n",
    "    j_max = 1\n",
    "    result = abs(A[i_max][j_max])\n",
    "    \n",
    "    for i in range(row):\n",
    "        for j in range(col):\n",
    "            if i != j and abs(A[i][j]) > result:\n",
    "                result = abs(A[i][j])\n",
    "                i_max = i\n",
    "                j_max = j\n",
    "    \n",
    "    return (i_max, j_max)\n",
    "\n",
    "#Нахождения матрицы А для следующей итерации\n",
    "def A_iter(A_arg, eps):\n",
    "    \n",
    "    A = np.array(A_arg)\n",
    "    row = len(A)\n",
    "    col = len(A[0])\n",
    "    \n",
    "    counter = 0\n",
    "    flag = True\n",
    "    while flag:\n",
    "        \n",
    "        counter += 1\n",
    "        print(\"+++ Итерация:\",counter, \"+++\")\n",
    "        \n",
    "        i, j = max_no_diag(A)\n",
    "        print(\"Макс.элемент A[\" + str(i) + \"][\" + str(j) + \"]:\", A[i][j])\n",
    "        \n",
    "        fi = 0.5 * np.arctan( 2.0 * A[i][j] / ( A[i][i] - A[j][j]) )\n",
    "        \n",
    "        U = np.eye(3)\n",
    "        U[i][j] = -1 * np.sin(fi)\n",
    "        U[j][i] = np.sin(fi)\n",
    "        U[i][i] = np.cos(fi)\n",
    "        U[j][j] = np.cos(fi)\n",
    "        \n",
    "        A = np.matmul(np.matmul(U.T, A), U)\n",
    "        flag = abs(A[i][j]) > eps\n",
    "        print(\"U.T * A * U :\\n\",A)\n",
    "        print(\"Макс.элемент A[\" + str(i) + \"][\" + str(j) + \"]:\", A[i][j])\n",
    "        \n",
    "    \n",
    "    return A"
   ]
  },
  {
   "cell_type": "code",
   "execution_count": 20,
   "metadata": {},
   "outputs": [],
   "source": [
    "#Условие остановки\n",
    "def smallness_condition(A, eps):\n",
    "    row = len(A)\n",
    "    col = len(A[0])\n",
    "    result = 0\n",
    "    for i in range(row):\n",
    "        for j in range(col):\n",
    "            if i != j:\n",
    "                result += A[i][j] ** 2\n",
    "    \n",
    "    return np.sqrt(result) > eps\n",
    "\n",
    "#Метод Якоби\n",
    "def Jacobi(A_arg, eps):\n",
    "    A = np.array(A_arg)\n",
    "    counter = 0 \n",
    "    while smallness_condition(A, eps):\n",
    "        counter += 1\n",
    "        A = A_iter(A, eps)\n",
    "    print(\"Количество итераций во внешнем цикле:\", counter)\n",
    "    return A.round(10)"
   ]
  },
  {
   "cell_type": "code",
   "execution_count": 21,
   "metadata": {},
   "outputs": [],
   "source": [
    "def move_max(m,col):\n",
    "    max_element = m[col][col]\n",
    "    row = col\n",
    "    #  по столбцу ниже диагонали\n",
    "    for i in range(col + 1, len(m)):\n",
    "        if abs(m[i][col]) > abs(max_element):\n",
    "            max_element = m[i][col]\n",
    "            row = i\n",
    "    #если максимум не на диагонали\n",
    "    if row != col:\n",
    "        m[col], m[row] = m[row], m[col]\n",
    "        \n",
    "        \n",
    "def gauss(m):\n",
    "    n = len(m)\n",
    "    # прямой ход\n",
    "    #для всех столбцов\n",
    "    for k in range(n - 1):\n",
    "        # для каждого столбца перемещаем вверх максимум\n",
    "        move_max(m, k)\n",
    "        # по строке\n",
    "        for i in range(k + 1, n):\n",
    "            div = m[i][k] / m[k][k]\n",
    "            m[i][-1] -= div * m[k][-1]\n",
    "            for j in range(k, n):\n",
    "                m[i][j] -= div * m[k][j]\n",
    "\n",
    "    # вектор переменных            \n",
    "    x = [0 for i in range(n)]    \n",
    "    \n",
    "    # обратный ход\n",
    "    # снизу вверх\n",
    "    x[n-1]=1\n",
    "    for k in range(n - 2, -1, -1):\n",
    "        x[k] = (m[k][-1] - sum([m[k][j] * x[j] for j in range(k + 1, n)])) / m[k][k]\n",
    "\n",
    "    return x "
   ]
  },
  {
   "cell_type": "code",
   "execution_count": 22,
   "metadata": {},
   "outputs": [
    {
     "name": "stdout",
     "output_type": "stream",
     "text": [
      "+++ Итерация: 1 +++\n",
      "Макс.элемент A[0][2]: -7\n",
      "U.T * A * U :\n",
      " [[-7.40224691e+00  1.33653221e+00  3.69805442e-16]\n",
      " [ 1.33653221e+00  9.00000000e+00  4.62257138e-01]\n",
      " [ 6.49879647e-16  4.62257138e-01  1.04022469e+01]]\n",
      "Макс.элемент A[0][2]: 3.6980544170153523e-16\n",
      "+++ Итерация: 1 +++\n",
      "Макс.элемент A[0][1]: 1.336532206429169\n",
      "U.T * A * U :\n",
      " [[-7.51044017  0.         -0.03729805]\n",
      " [ 0.          9.10819326  0.46074995]\n",
      " [-0.03729805  0.46074995 10.40224691]]\n",
      "Макс.элемент A[0][1]: 0.0\n",
      "+++ Итерация: 1 +++\n",
      "Макс.элемент A[1][2]: 0.4607499506040387\n",
      "U.T * A * U :\n",
      " [[-7.51044017e+00  1.13568282e-02 -3.55269848e-02]\n",
      " [ 1.13568282e-02  8.96090640e+00  3.15221166e-17]\n",
      " [-3.55269848e-02  7.21559715e-17  1.05495338e+01]]\n",
      "Макс.элемент A[1][2]: 3.152211655806811e-17\n",
      "+++ Итерация: 1 +++\n",
      "Макс.элемент A[0][2]: -0.035526984808461\n",
      "U.T * A * U :\n",
      " [[-7.51051005e+00  1.13568062e-02 -1.50106853e-18]\n",
      " [ 1.13568062e-02  8.96090640e+00 -2.23406480e-05]\n",
      " [ 2.60676047e-16 -2.23406480e-05  1.05496037e+01]]\n",
      "Макс.элемент A[0][2]: -1.5010685303277479e-18\n",
      "+++ Итерация: 1 +++\n",
      "Макс.элемент A[0][1]: 0.011356806208969564\n",
      "U.T * A * U :\n",
      " [[-7.51051788e+00  0.00000000e+00  1.54035465e-08]\n",
      " [-8.32667268e-17  8.96091423e+00 -2.23406427e-05]\n",
      " [ 1.54035467e-08 -2.23406427e-05  1.05496037e+01]]\n",
      "Макс.элемент A[0][1]: 0.0\n",
      "Количество итераций во внешнем цикле: 5\n",
      "Собственное число: -7.5105178846\n",
      "Собственное число: 8.9609142303\n",
      "Собственное число: 10.5496036542\n"
     ]
    }
   ],
   "source": [
    "#Вызов метода Якоби для матрицы A\n",
    "A = A2\n",
    "lambdas = Jacobi(A, eps)\n",
    "lambdas = np.diag(lambdas) #Вектор из собственных значений\n",
    "for l in lambdas:\n",
    "    print('Собственное число:', l)"
   ]
  },
  {
   "cell_type": "code",
   "execution_count": 23,
   "metadata": {},
   "outputs": [
    {
     "name": "stdout",
     "output_type": "stream",
     "text": [
      "Собственное число: -7.5105178846\n",
      "Проверка: True\n",
      "Собственное число: 8.9609142303\n",
      "Проверка: True\n",
      "Собственное число: 10.5496036542\n",
      "Проверка: True\n"
     ]
    }
   ],
   "source": [
    "#Проверка собственных значений\n",
    "A = np.array(A)\n",
    "for l in lambdas:\n",
    "    print('Собственное число:', l)\n",
    "    print('Проверка:', abs( np.linalg.det( A - l * np.eye(3) ) ) <= eps ) #|A-lE| <= eps"
   ]
  },
  {
   "cell_type": "code",
   "execution_count": 24,
   "metadata": {},
   "outputs": [
    {
     "name": "stdout",
     "output_type": "stream",
     "text": [
      "Собственное число: -7.5105178846\n",
      "Собственный вектор: [2.0465706943156787, -0.18452302439024842, 1] \n",
      "\n",
      "Собственное число: 8.9609142303\n",
      "Собственный вектор: [-0.8453545169440214, -3.9565673883081494, 1] \n",
      "\n",
      "Собственное число: 10.5496036542\n",
      "Собственный вектор: [-0.45703013076753374, 0.35039273930518733, 1] \n",
      "\n"
     ]
    }
   ],
   "source": [
    "#Поиск собственных векторов\n",
    "Xs = []\n",
    "for l in lambdas:\n",
    "    print('Собственное число:', l)\n",
    "    A_tmp = np.append(A - l * np.eye(3), [[0],[0],[0]], axis = 1)\n",
    "    X_tmp = gauss(A_tmp)\n",
    "    Xs.append(X_tmp)\n",
    "    print('Собственный вектор:', X_tmp, '\\n')"
   ]
  },
  {
   "cell_type": "code",
   "execution_count": 25,
   "metadata": {},
   "outputs": [
    {
     "name": "stdout",
     "output_type": "stream",
     "text": [
      "[-15.3708058    1.38586347  -7.51051788]\n",
      "[-15.3708058    1.38586347  -7.51051788]\n",
      "Проверка: True\n",
      "\n",
      "\n",
      "[ -7.57514932 -35.45446101   8.96091423]\n",
      "[ -7.57514932 -35.45446101   8.96091423]\n",
      "Проверка: True\n",
      "\n",
      "\n",
      "[-4.82148674  3.69650452 10.54960365]\n",
      "[-4.82148674  3.69650452 10.54960365]\n",
      "Проверка: True\n",
      "\n",
      "\n"
     ]
    }
   ],
   "source": [
    "for v, l in zip(Xs, lambdas):\n",
    "    v = np.array(v)\n",
    "    left   = np.matmul(A, v)\n",
    "    right  = np.array(v * l)\n",
    "    print(left)\n",
    "    print(right)\n",
    "    print('Проверка:', np.allclose(left, right)) #Ax = lx\n",
    "    print('\\n')"
   ]
  },
  {
   "cell_type": "code",
   "execution_count": null,
   "metadata": {},
   "outputs": [],
   "source": []
  }
 ],
 "metadata": {
  "interpreter": {
   "hash": "9777fb61b55e1933eff332717eda7c0bd529e91992eea15ec22fe51e6d50818d"
  },
  "kernelspec": {
   "display_name": "Python 3.9.7 ('base')",
   "language": "python",
   "name": "python3"
  },
  "language_info": {
   "codemirror_mode": {
    "name": "ipython",
    "version": 3
   },
   "file_extension": ".py",
   "mimetype": "text/x-python",
   "name": "python",
   "nbconvert_exporter": "python",
   "pygments_lexer": "ipython3",
   "version": "3.9.7"
  },
  "orig_nbformat": 4
 },
 "nbformat": 4,
 "nbformat_minor": 2
}
