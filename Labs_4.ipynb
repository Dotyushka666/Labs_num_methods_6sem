{
 "cells": [
  {
   "cell_type": "code",
   "execution_count": 1,
   "id": "e3f45a85",
   "metadata": {},
   "outputs": [],
   "source": [
    "import math\n",
    "import numpy as np\n",
    "def f(x):\n",
    "    return np.log(x+1) - 2*x**2 + 1\n",
    "\n",
    "#Производная f(x)\n",
    "def dfdx(x):\n",
    "    return 1/(x + 1) - 4*x\n",
    "\n",
    "#Функция x=f*(x)\n",
    "def f_it(x):\n",
    "    return np.sqrt((np.log(x+1)+1)/2)  \n",
    "\n",
    "#Производная f*(x)\n",
    "def df_itdx(x):\n",
    "    return 1/((2*x + 2) * np.sqrt(2 * (np.log(x + 1) + 1)))"
   ]
  },
  {
   "cell_type": "code",
   "execution_count": 4,
   "id": "04167578",
   "metadata": {},
   "outputs": [
    {
     "data": {
      "image/png": "[encoded data removed]",
      "text/plain": [
       "<Figure size 432x288 with 1 Axes>"
      ]
     },
     "metadata": {
      "needs_background": "light"
     },
     "output_type": "display_data"
    }
   ],
   "source": [
    "import matplotlib.pyplot as plt\n",
    "\n",
    "x = np.arange(-0.9, 2, .1)\n",
    "y = np.array([f(i) for i in x])\n",
    "\n",
    "x_1 = np.arange(-0.5, 2, .1)\n",
    "y_1 = np.array([dfdx(i) for i in x_1])\n",
    "\n",
    "plt.plot(x, y, label=\"f(x)\")\n",
    "#plt.plot(x_1, y_1, label=\"f'(x)\")\n",
    "\n",
    "plt.legend()\n",
    "plt.grid()\n",
    "plt.show()"
   ]
  },
  {
   "cell_type": "code",
   "execution_count": 5,
   "id": "330b7124",
   "metadata": {},
   "outputs": [],
   "source": [
    "#Метод половинного деления\n",
    "def half_method(f, a, b, eps,it=0):\n",
    "    c = (a+b)/2\n",
    "    if f(a)*f(c)<0:\n",
    "        b=c\n",
    "    else:\n",
    "        a=c\n",
    "    if abs(b-a)<eps:\n",
    "        print(\"Количество иттераций: \",it)\n",
    "        print(\"f=\",f((a+b)/2))\n",
    "        return (a+b)/2\n",
    "    else:\n",
    "        it+=1\n",
    "        return half_method(f,a ,b, eps, it)\n",
    "    \n",
    "#Метод простых итераций\n",
    "def simple_itt_method(f, a, b, eps):\n",
    "    x = (a+b)/2\n",
    "    fx=f_it(x)\n",
    "    ffx=f_it(fx)\n",
    "    it=1\n",
    "    while abs(fx-ffx)>=eps:\n",
    "        it+=1\n",
    "        fx=ffx\n",
    "        ffx=f_it(fx)\n",
    "    print(\"Количество иттераций: \",it)\n",
    "    print(\"f=\",f(ffx))\n",
    "    return ffx  \n",
    "\n",
    "#Метод Ньютона\n",
    "def newton_method(f, a, b, eps):\n",
    "    x = (a+b)/2\n",
    "    it=1\n",
    "    x_new = x - (f(x)/dfdx(x))\n",
    "    while abs(x-x_new)>=eps:\n",
    "        x=x_new\n",
    "        x_new = x - (f(x)/dfdx(x))\n",
    "        it+=1\n",
    "    print(\"Количество иттераций: \",it)\n",
    "    print(f\"f= {f(x_new):f}\")\n",
    "    return x_new\n",
    "\n",
    "#Метод секущих\n",
    "def secant_method(f, a, b, eps):\n",
    "    x_1 = (a+b)/2\n",
    "    it=1\n",
    "    x_2 = x_1 - (f(x_1)/(f(x_1)-f(a)))*(x_1-a)\n",
    "    x_3 = x_2 - (f(x_2)/(f(x_2)-f(x_1)))*(x_2-x_1)\n",
    "    while abs(x_2-x_3)>=eps:\n",
    "        x_1=x_2\n",
    "        x_2=x_3\n",
    "        x_3 = x_2 - (f(x_2)/(f(x_2)-f(x_1)))*(x_2-x_1)\n",
    "        it+=1\n",
    "    print(\"Количество иттераций: \",it)\n",
    "    print(f\"f= {f(x_3):f}\")\n",
    "    return x_3"
   ]
  },
  {
   "cell_type": "code",
   "execution_count": 6,
   "id": "da492d31",
   "metadata": {},
   "outputs": [
    {
     "name": "stdout",
     "output_type": "stream",
     "text": [
      "Количество иттераций:  8\n",
      "f= 0.0010454547459797237\n",
      "x = 0.90673828125\n"
     ]
    }
   ],
   "source": [
    "print(f\"x = {half_method(f, .5, 1, 0.001)}\")"
   ]
  },
  {
   "cell_type": "code",
   "execution_count": 7,
   "id": "0fed78d0",
   "metadata": {},
   "outputs": [
    {
     "data": {
      "image/png": "[encoded data removed]",
      "text/plain": [
       "<Figure size 432x288 with 1 Axes>"
      ]
     },
     "metadata": {
      "needs_background": "light"
     },
     "output_type": "display_data"
    }
   ],
   "source": [
    "x_2 = np.arange(-0.5, 1.1, .1)\n",
    "fi = np.array([f_it(i) for i in x_2])\n",
    "\n",
    "x_3 = np.arange(-0.5, 1.1, .1)\n",
    "fi_1 = np.array([df_itdx(i) for i in x_3])\n",
    "\n",
    "plt.plot(x_2, fi, label=\"f*(x)\")\n",
    "plt.plot(x_3, fi_1, label=\"f*'(x)\")\n",
    "\n",
    "gr = np.arange(-0.5, 1.5, .1)\n",
    "plt.plot(gr, np.array([1 for i in range(len(gr))]))\n",
    "plt.plot(gr, np.array([-1 for i in range(len(gr))]))\n",
    "\n",
    "plt.legend()\n",
    "plt.grid()\n",
    "plt.show()"
   ]
  },
  {
   "cell_type": "code",
   "execution_count": 8,
   "id": "8aa8e159",
   "metadata": {},
   "outputs": [
    {
     "name": "stdout",
     "output_type": "stream",
     "text": [
      "Количество иттераций:  3\n",
      "f= 0.00022709760173378335\n",
      "x = 0.9070020070162144\n"
     ]
    }
   ],
   "source": [
    "print(f\"x = {simple_itt_method(f, .5, 1, 0.001)}\")"
   ]
  },
  {
   "cell_type": "code",
   "execution_count": 9,
   "id": "7f66658d",
   "metadata": {},
   "outputs": [
    {
     "name": "stdout",
     "output_type": "stream",
     "text": [
      "Количество иттераций:  3\n",
      "f= -0.000000\n",
      "x = 0.9070752454797887\n"
     ]
    }
   ],
   "source": [
    "print(f\"x = {newton_method(f, .5, 1, 0.001)}\")"
   ]
  },
  {
   "cell_type": "code",
   "execution_count": 10,
   "id": "e2f469f2",
   "metadata": {},
   "outputs": [
    {
     "name": "stdout",
     "output_type": "stream",
     "text": [
      "Количество иттераций:  3\n",
      "f= -0.000007\n",
      "x = 0.9070775896642713\n"
     ]
    }
   ],
   "source": [
    "print(f\"x = {secant_method(f, .5, 1, 0.001)}\")"
   ]
  },
  {
   "cell_type": "code",
   "execution_count": null,
   "id": "037fafd4",
   "metadata": {},
   "outputs": [],
   "source": []
  }
 ],
 "metadata": {
  "kernelspec": {
   "display_name": "Python 3",
   "language": "python",
   "name": "python3"
  },
  "language_info": {
   "codemirror_mode": {
    "name": "ipython",
    "version": 3
   },
   "file_extension": ".py",
   "mimetype": "text/x-python",
   "name": "python",
   "nbconvert_exporter": "python",
   "pygments_lexer": "ipython3",
   "version": "3.9.7"
  }
 },
 "nbformat": 4,
 "nbformat_minor": 5
}
