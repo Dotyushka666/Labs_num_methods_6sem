{
 "cells": [
  {
   "cell_type": "code",
   "execution_count": 27,
   "metadata": {},
   "outputs": [
    {
     "data": {
      "image/png": "[encoded data removed]",
      "text/plain": [
       "<Figure size 432x288 with 1 Axes>"
      ]
     },
     "metadata": {
      "needs_background": "light"
     },
     "output_type": "display_data"
    }
   ],
   "source": [
    "import numpy as np\n",
    "import matplotlib.pyplot as plt\n",
    "\n",
    "def x_2(x):\n",
    "    if (x-x**2+3)/3 >= 0 :\n",
    "        return ((x-x**2+3)/3)**(1/2)\n",
    "    else:\n",
    "        return None\n",
    "\n",
    "def x_1(x):\n",
    "    return (1+x)**2 - 3\n",
    "\n",
    "x = np.linspace(-2, 2, 100)\n",
    "\n",
    "y_1 = np.array([x_1(i) for i in x])\n",
    "y_2 = np.array([x_2(i) for i in x])\n",
    "\n",
    "plt.plot(y_1, x, label=\"x1\", linewidth=2)\n",
    "plt.plot(x, y_2, label=\"x2\", linewidth=2)\n",
    "\n",
    "plt.xlabel(\"x1\")\n",
    "plt.ylabel(\"x2\")\n",
    "plt.title(\"График в области [-2, 2] для x1 и x2\")\n",
    "\n",
    "plt.grid(color = 'black', linestyle = '--')\n",
    "plt.legend()\n",
    "plt.show()"
   ]
  },
  {
   "cell_type": "markdown",
   "metadata": {},
   "source": [
    "Найдём решение заключенное в области *0 < x<sub>1</sub> < 2* и *0 < x<sub>2</sub> < 1.5*  \n",
    "Но для начала проверим достаточное условие сходимости (< 1)"
   ]
  },
  {
   "cell_type": "markdown",
   "metadata": {},
   "source": [
    "### Метод простых итераций"
   ]
  },
  {
   "cell_type": "code",
   "execution_count": 47,
   "metadata": {},
   "outputs": [],
   "source": [
    "def betta(x:list, x_prev:list) -> float:\n",
    "    b = max([abs(x[i] - x_prev[i]) for i in range(len(x))])\n",
    "    return b\n",
    "\n",
    "#Проверка области G\n",
    "def check_g(f):\n",
    "    assert max(abs(np.sin(f[1]) / 4), abs(np.exp(f[0]) / 4)) < 1\n",
    "\n",
    "#Метод простых итераций\n",
    "def simple_iteration(X:list, eps:float = 0.0001):\n",
    "    x_prev = X.copy() #Нулевая итерация\n",
    "    print(\"0:\", x_prev)\n",
    "    x = [x_1(X[1]), x_2(X[0])] #Первая итерация\n",
    "    iter = 1 #Счетчик для вывода\n",
    "    print(f\"{iter}:\", np.round(x, 5))\n",
    "    while betta(x, x_prev) > eps: #Проверка оценки погрешности\n",
    "        x_prev = x.copy()\n",
    "        x.clear()\n",
    "        #Поиск новых коэффициентов при новой итерации\n",
    "        x = [x_1(x_prev[1]), x_2(x_prev[0])]\n",
    "        #check_g(x)\n",
    "\n",
    "        iter += 1\n",
    "        print(f\"{iter}:\", np.round(x, 5))  \n",
    "    return x, iter"
   ]
  },
  {
   "cell_type": "markdown",
   "metadata": {},
   "source": [
    "Возьмём точку O(x<sub>1</sub>, x<sub>2</sub>) с координатами длины отрезка x<sub>1</sub> и x<sub>2</sub>, поделённого на 2"
   ]
  },
  {
   "cell_type": "code",
   "execution_count": 48,
   "metadata": {},
   "outputs": [
    {
     "name": "stdout",
     "output_type": "stream",
     "text": [
      "0: [-1.0, 0.5]\n",
      "1: [-0.75     0.57735]\n",
      "2: [-0.51197  0.75   ]\n",
      "3: [0.0625  0.86138]\n",
      "4: [0.46473 1.00972]\n",
      "5: [1.03897 1.04063]\n",
      "6: [1.16419 0.99323]\n",
      "7: [0.97296 0.96762]\n",
      "8: [0.87152 1.00437]\n",
      "9: [1.01752 1.01849]\n",
      "10: [1.07431 0.99702]\n",
      "11: [0.98811 0.98661]\n",
      "12: [0.9466  1.00196]\n",
      "13: [1.00783 1.00839]\n",
      "14: [1.03363 0.99868]\n",
      "15: [0.99474 0.99419]\n",
      "16: [0.97679 1.00087]\n",
      "17: [1.00349 1.00377]\n",
      "18: [1.0151  0.99942]\n",
      "19: [0.99767 0.99744]\n",
      "20: [0.98978 1.00039]\n",
      "21: [1.00155 1.00169]\n",
      "22: [1.00674 0.99974]\n",
      "23: [0.99896 0.99887]\n",
      "24: [0.99547 1.00017]\n",
      "25: [1.00069 1.00075]\n",
      "26: [1.003   0.99988]\n",
      "27: [0.99954 0.9995 ]\n",
      "28: [0.99799 1.00008]\n",
      "29: [1.00031 1.00033]\n",
      "30: [1.00134 0.99995]\n",
      "31: [0.9998  0.99978]\n",
      "32: [0.99911 1.00003]\n",
      "33: [1.00014 1.00015]\n",
      "34: [1.00059 0.99998]\n",
      "35: [0.99991 0.9999 ]\n",
      "36: [0.9996  1.00002]\n",
      "37: [1.00006 1.00007]\n",
      "38: [1.00026 0.99999]\n",
      "39: [0.99996 0.99996]\n",
      "40: [0.99982 1.00001]\n",
      "41: [1.00003 1.00003]\n",
      "42: [1.00012 1.     ]\n"
     ]
    }
   ],
   "source": [
    "X = [i/2 for i in [-2 + 0, 0 + 1]]\n",
    "simple_iter, iter_s = simple_iteration(X)"
   ]
  },
  {
   "cell_type": "markdown",
   "metadata": {},
   "source": [
    "### Метод Зейделя"
   ]
  },
  {
   "cell_type": "code",
   "execution_count": 37,
   "metadata": {},
   "outputs": [],
   "source": [
    "def method_seidel(X: list, eps:float = 0.0001):\n",
    "    x_prev = X.copy() #Нулевая итерация\n",
    "    print(\"0:\", x_prev)\n",
    "    iter = 1\n",
    "    x = X.copy()\n",
    "    while True:\n",
    "        x_prev = x.copy()\n",
    "        #Поиск первого коэффициента при новой итерации\n",
    "        x[0] = x_1(x_prev[1])\n",
    "        #Поиск второго коэффициента при новой итерации, используя уже найденный первый коэфф\n",
    "        x[1] = x_2(x[0])\n",
    "        #check_g(x)\n",
    "\n",
    "        print(f\"{iter}:\", np.round(x, 5))\n",
    "        if betta(x, x_prev) < eps: return x, iter\n",
    "        iter += 1\n",
    "\n",
    "        x_prev = x.copy()"
   ]
  },
  {
   "cell_type": "code",
   "execution_count": 42,
   "metadata": {},
   "outputs": [
    {
     "name": "stdout",
     "output_type": "stream",
     "text": [
      "0: [-1.0, 0.75]\n",
      "1: [0.0625  1.00972]\n",
      "2: [1.03897 0.99323]\n",
      "3: [0.97296 1.00437]\n",
      "4: [1.01752 0.99702]\n",
      "5: [0.98811 1.00196]\n",
      "6: [1.00783 0.99868]\n",
      "7: [0.99474 1.00087]\n",
      "8: [1.00349 0.99942]\n",
      "9: [0.99767 1.00039]\n",
      "10: [1.00155 0.99974]\n",
      "11: [0.99896 1.00017]\n",
      "12: [1.00069 0.99988]\n",
      "13: [0.99954 1.00008]\n",
      "14: [1.00031 0.99995]\n",
      "15: [0.9998  1.00003]\n",
      "16: [1.00014 0.99998]\n",
      "17: [0.99991 1.00002]\n",
      "18: [1.00006 0.99999]\n",
      "19: [0.99996 1.00001]\n",
      "20: [1.00003 1.     ]\n"
     ]
    }
   ],
   "source": [
    "X = [i/2 for i in [-2 + 0, 0 + 1.5]]\n",
    "seidel, iter_seidel = method_seidel(X)"
   ]
  },
  {
   "cell_type": "markdown",
   "metadata": {},
   "source": [
    "### Метод Ньютона"
   ]
  },
  {
   "cell_type": "code",
   "execution_count": 32,
   "metadata": {},
   "outputs": [],
   "source": [
    "def w(x):\n",
    "    return np.array([[6*x[0], -1+2*x[1]], [1, 1/(2*(x[1]+3)**(1/2))]])\n",
    "\n",
    "def f(x):\n",
    "    return np.array([(3*(x[0])**2 - x[1] + (x[1])**2 - 3), (x[0] - (x[1] + 3)**(1/2) + 1)]) * (-1)\n",
    "\n",
    "def method_newton(X:list, eps:float = 0.0001):\n",
    "    x = np.array(X.copy())\n",
    "    print(\"0:\", x)\n",
    "    iter = 1\n",
    "    while True:\n",
    "        W = w(x)\n",
    "        F = f(x)\n",
    "        delta_x = np.linalg.solve(W, F)\n",
    "        x += delta_x\n",
    "        print(f\"{iter}:\", np.round(x, 5))\n",
    "        if max(abs(delta_x)) < eps: return x, iter\n",
    "        iter += 1\n"
   ]
  },
  {
   "cell_type": "code",
   "execution_count": 41,
   "metadata": {},
   "outputs": [
    {
     "name": "stdout",
     "output_type": "stream",
     "text": [
      "0: [1.1 1.1]\n",
      "1: [0.88466 1.66772]\n",
      "2: [ 1.56303 -0.07164]\n",
      "3: [ 0.98077 -0.99408]\n",
      "4: [ 0.51761 -1.28104]\n",
      "5: [ 0.3043  -1.26324]\n",
      "6: [ 0.30333 -1.22495]\n",
      "7: [ 0.32739 -1.21183]\n",
      "8: [ 0.33532 -1.20672]\n",
      "9: [ 0.33843 -1.20483]\n",
      "10: [ 0.33958 -1.20413]\n",
      "11: [ 0.34001 -1.20387]\n",
      "12: [ 0.34016 -1.20378]\n",
      "13: [ 0.34022 -1.20375]\n"
     ]
    }
   ],
   "source": [
    "X = [i/2 for i in [0 + 2.2, 0 + 2.2]]\n",
    "newton, iter_newton = method_newton(X)"
   ]
  },
  {
   "cell_type": "code",
   "execution_count": 34,
   "metadata": {},
   "outputs": [
    {
     "data": {
      "text/markdown": [
       "#### Метод простых итераций: x<sub>1</sub>=0.99991, x<sub>2</sub>=1.0; Кол-во итераций: 33\n",
       "#### Метод Зейделя: x<sub>1</sub>=1.00003, x<sub>2</sub>=1.0; Кол-во итераций: 20\n",
       "#### Метод Ньютона: x<sub>1</sub>=0.34028, x<sub>2</sub>=-1.20371; Кол-во итераций: 12"
      ],
      "text/plain": [
       "<IPython.core.display.Markdown object>"
      ]
     },
     "metadata": {},
     "output_type": "display_data"
    }
   ],
   "source": [
    "from IPython.display import display, Markdown\n",
    "display(Markdown(f\"#### Метод простых итераций: x<sub>1</sub>={np.round(simple_iter[0], 5)}, x<sub>2</sub>={np.round(simple_iter[1], 5)}; Кол-во итераций: {iter_s}\\n\"\n",
    "f\"#### Метод Зейделя: x<sub>1</sub>={np.round(seidel[0], 5)}, x<sub>2</sub>={np.round(seidel[1], 5)}; Кол-во итераций: {iter_seidel}\\n\"\n",
    "f\"#### Метод Ньютона: x<sub>1</sub>={np.round(newton[0], 5)}, x<sub>2</sub>={np.round(newton[1], 5)}; Кол-во итераций: {iter_newton}\"))"
   ]
  },
  {
   "cell_type": "code",
   "execution_count": 35,
   "metadata": {},
   "outputs": [
    {
     "name": "stdout",
     "output_type": "stream",
     "text": [
      "[3.45933384 1.28196542]\n",
      "[3.45980171 1.28162695]\n",
      "[ 1.00220712 -6.2201865 ]\n"
     ]
    }
   ],
   "source": [
    "def func(x):\n",
    "    return np.array([4 * x[0] - np.cos(x[1]), 4 * x[1] - np.exp(x[0])])\n",
    "\n",
    "print(func(simple_iter))\n",
    "print(func(seidel))\n",
    "print(func(newton))"
   ]
  },
  {
   "cell_type": "code",
   "execution_count": null,
   "metadata": {},
   "outputs": [],
   "source": []
  }
 ],
 "metadata": {
  "interpreter": {
   "hash": "9777fb61b55e1933eff332717eda7c0bd529e91992eea15ec22fe51e6d50818d"
  },
  "kernelspec": {
   "display_name": "Python 3.9.7 ('base')",
   "language": "python",
   "name": "python3"
  },
  "language_info": {
   "codemirror_mode": {
    "name": "ipython",
    "version": 3
   },
   "file_extension": ".py",
   "mimetype": "text/x-python",
   "name": "python",
   "nbconvert_exporter": "python",
   "pygments_lexer": "ipython3",
   "version": "3.9.7"
  },
  "orig_nbformat": 4
 },
 "nbformat": 4,
 "nbformat_minor": 2
}
