{
 "cells": [
  {
   "cell_type": "code",
   "execution_count": 23,
   "metadata": {},
   "outputs": [],
   "source": [
    "import ipywidgets as wd\n",
    "from IPython.display import display, Markdown\n",
    "from collections import deque"
   ]
  },
  {
   "cell_type": "code",
   "execution_count": 105,
   "metadata": {},
   "outputs": [],
   "source": [
    "#Получение коэффициентов из таблицы\n",
    "def get_values_from_matrix(rows:list) -> list:\n",
    "    A = []\n",
    "    temp = []\n",
    "    for row in rows:\n",
    "        for a in row:\n",
    "            temp.append(a.value)\n",
    "        A.append(temp.copy())\n",
    "        temp.clear()\n",
    "    return A\n",
    "\n",
    "def check_3_diagonal():\n",
    "    pass\n",
    "\n",
    "#Разделение на диагоналиы\n",
    "def split_diagonals(rows:list):\n",
    "    A = get_values_from_matrix(rows)\n",
    "    c = [A[i][i+1] for i in range(len(A)-1)]\n",
    "    b = [A[i][i] for i in range(len(A))]\n",
    "    a = [A[i+1][i] for i in range(len(A)-1)]\n",
    "    d = [A[i][len(A)] for i in range(len(A))]\n",
    "    return c, b, a, d\n",
    "\n",
    "#Метод прогонки\n",
    "def run_through(rows):\n",
    "    p = []\n",
    "    q = []\n",
    "    c, b, a, d = split_diagonals(rows)\n",
    "    p.append(-c[0]/float(b[0]))\n",
    "    q.append(d[0]/float(b[0]))\n",
    "    for i in range(1, len(b)-1):\n",
    "        p.append(-c[i] / float(b[i] + a[i-1] * p[-1]))\n",
    "        q.append((d[i] - a[i-1] * q[-1]) / float(b[i] + a[i-1] * p[-2]))\n",
    "    #Поиск решения в виде (1)\n",
    "    x = []\n",
    "    x.append((d[-1] - a[-1] * q[-1]) / float(b[-1] + a[-1] * p[-1]))\n",
    "    for i in range(len(b)-2, -1 , -1):\n",
    "        x.append(p[i] * x[-1] + q[i])\n",
    "    print(\"p:\", p, \"\\nq: \", q)\n",
    "    x.reverse()\n",
    "    print (f\"x: {x}\")\n",
    "    return x\n",
    "    "
   ]
  },
  {
   "cell_type": "markdown",
   "metadata": {},
   "source": [
    "##### x<sub>i</sub> = P<sub>i</sub>x<sub>i+1</sub>+Q<sub>i</sub>, i = 1,2,...,n. (1)  \n",
    "\n",
    "def run-through method  \n",
    "|x<sub>1</sub>|x<sub>2</sub>|x<sub>3</sub>|x<sub>4</sub>|x<sub>5</sub>|d|\n",
    "|---|---|---|---|---|---|\n",
    "|12|-5|0|0|0|148|\n",
    "|-3|-18|-8|0|0|45|\n",
    "|0|-2|-16|-9|0|-155|\n",
    "|0|0|-4|18|-7|11|\n",
    "|0|0|0|4|-9|3|"
   ]
  },
  {
   "cell_type": "code",
   "execution_count": 25,
   "metadata": {},
   "outputs": [
    {
     "data": {
      "application/vnd.jupyter.widget-view+json": {
       "model_id": "6721890713fb4e6384a21ee6c1b76d45",
       "version_major": 2,
       "version_minor": 0
      },
      "text/plain": [
       "VBox(children=(Box(children=(IntText(value=0, layout=Layout(width='50px')), IntText(value=0, layout=Layout(wid…"
      ]
     },
     "metadata": {},
     "output_type": "display_data"
    }
   ],
   "source": [
    "#Вывод таблицы для ввода\n",
    "rows = [[wd.IntText(description='', layout=wd.Layout(width='50px')) for _ in range(6)] for _ in range(5)] #Создание таблички для ввода коэффициентов\n",
    "box_layout = wd.Layout(display='flex',\n",
    "                        flex_flow='row',\n",
    "                        align_items='stretch',\n",
    "                        width='100%')\n",
    "w_row_1 = wd.Box(children=rows[0], layout=box_layout)\n",
    "w_row_2 = wd.Box(children=rows[1], layout=box_layout)\n",
    "w_row_3 = wd.Box(children=rows[2], layout=box_layout)\n",
    "w_row_4 = wd.Box(children=rows[3], layout=box_layout)\n",
    "w_row_5 = wd.Box(children=rows[4], layout=box_layout)\n",
    "box = wd.VBox(children=[w_row_1, w_row_2, w_row_3, w_row_4, w_row_5])\n",
    "display(box)"
   ]
  },
  {
   "cell_type": "code",
   "execution_count": 109,
   "metadata": {},
   "outputs": [
    {
     "name": "stdout",
     "output_type": "stream",
     "text": [
      "([-5, -8, -9, -7], [12, -18, -16, 18, -9], [-3, -2, -4, 4], [148, 45, -155, 11, 3])\n",
      "p: [0.4166666666666667, -0.4155844155844156, -0.5933219178082192, 0.3435871575054631] \n",
      "q:  [12.333333333333334, -4.259740259740259, 10.779965753424657, 2.656412842494537]\n",
      "x: [9.0, -8.0, 9.0, 3.0, 1.0]\n"
     ]
    }
   ],
   "source": [
    "if __name__ == \"__main__\":\n",
    "    print(split_diagonals(rows))\n",
    "    x = run_through(rows)"
   ]
  },
  {
   "cell_type": "code",
   "execution_count": 110,
   "metadata": {},
   "outputs": [
    {
     "data": {
      "text/markdown": [
       "### x<sub>1</sub> = 9.0\n",
       "### x<sub>2</sub> = -8.0 \n",
       " ### x<sub>3</sub> = 9.0 \n",
       " ### x<sub>4</sub> = 3.0 \n",
       " ### x<sub>5</sub> = 1.0"
      ],
      "text/plain": [
       "<IPython.core.display.Markdown object>"
      ]
     },
     "metadata": {},
     "output_type": "display_data"
    }
   ],
   "source": [
    "#Нахождения с помощбю библиотеки\n",
    "import numpy as np\n",
    "A1 = np.array([])\n",
    "A1 = np.append(A1, get_values_from_matrix(rows))\n",
    "A1 = A1.reshape(5,6)\n",
    "b = A1[:, -1]\n",
    "A1 = A1[:, :-1]\n",
    "\n",
    "x_1 = np.linalg.solve(A1, b)\n",
    "display(Markdown(f\"### x<sub>1</sub> = {x[0]}\\n\"\n",
    "f\"### x<sub>2</sub> = {x[1]} \\n ### x<sub>3</sub> = {x[2]} \\n ### x<sub>4</sub> = {x[3]} \\n ### x<sub>5</sub> = {x[4]}\"))"
   ]
  },
  {
   "cell_type": "code",
   "execution_count": 111,
   "metadata": {},
   "outputs": [
    {
     "name": "stdout",
     "output_type": "stream",
     "text": [
      "[ 148.   45. -155.   11.    3.]\n"
     ]
    }
   ],
   "source": [
    "#Проверка\n",
    "B = np.dot(A1, x)\n",
    "print(B)"
   ]
  },
  {
   "cell_type": "code",
   "execution_count": null,
   "metadata": {},
   "outputs": [],
   "source": []
  }
 ],
 "metadata": {
  "interpreter": {
   "hash": "9777fb61b55e1933eff332717eda7c0bd529e91992eea15ec22fe51e6d50818d"
  },
  "kernelspec": {
   "display_name": "Python 3.8.12 ('base')",
   "language": "python",
   "name": "python3"
  },
  "language_info": {
   "codemirror_mode": {
    "name": "ipython",
    "version": 3
   },
   "file_extension": ".py",
   "mimetype": "text/x-python",
   "name": "python",
   "nbconvert_exporter": "python",
   "pygments_lexer": "ipython3",
   "version": "3.8.12"
  },
  "orig_nbformat": 4
 },
 "nbformat": 4,
 "nbformat_minor": 2
}
