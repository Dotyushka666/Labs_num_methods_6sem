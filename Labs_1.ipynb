{
 "cells": [
  {
   "cell_type": "code",
   "execution_count": 5,
   "metadata": {},
   "outputs": [],
   "source": [
    "import ipywidgets as wd\n",
    "from IPython.display import display, Markdown"
   ]
  },
  {
   "cell_type": "code",
   "execution_count": 6,
   "metadata": {},
   "outputs": [],
   "source": [
    "#Получение коэффициентов из таблицы\n",
    "def get_values_from_matrix(rows:list) -> list:\n",
    "    A = []\n",
    "    temp = []\n",
    "    for row in rows:\n",
    "        for a in row:\n",
    "            temp.append(a.value)\n",
    "        A.append(temp.copy())\n",
    "        temp.clear()\n",
    "    return A\n",
    "\n",
    "#Проверка СЛАУ на совместимость\n",
    "def check_matrix(A:list) -> bool:\n",
    "    for a in A:\n",
    "        if sum(a[:-2:-1]) == 0 and a[-1] != 0:\n",
    "            return False\n",
    "    return True\n",
    "\n",
    "#Проверка на бесконечность решений\n",
    "def select_leading_elem(A:list, k:int) -> None:\n",
    "    pivots = [abs(A[i][k]) for i in range(k, len(A))]\n",
    "    i_max = pivots.index(max(pivots)) + k\n",
    "\n",
    "    assert A[i_max][k] != 0, \"Singular!\"\n",
    "\n",
    "    A[k], A[i_max] = A[i_max], A[k]\n",
    "\n",
    "#Вывод итерации\n",
    "def print_iteration(A:list, k:int) -> None:\n",
    "    display(Markdown(f\"\"\"#### Итерация {k}  \n",
    "|**x<sub>1</sub>**|**x<sub>2</sub>**|**x<sub>3</sub>**|**x<sub>4</sub>**|**b**|\n",
    "|---|---|---|---|---|\n",
    "|{A[0][0]}|{A[0][1]}|{A[0][2]}|{A[0][3]}|{A[0][4]}|\n",
    "|{A[1][0]}|{A[1][1]}|{A[1][2]}|{A[1][3]}|{A[1][4]}|\n",
    "|{A[2][0]}|{A[2][1]}|{A[2][2]}|{A[2][3]}|{A[2][4]}|\n",
    "|{A[3][0]}|{A[3][1]}|{A[3][2]}|{A[3][3]}|{A[3][4]}|\n",
    "    \"\"\"))"
   ]
  },
  {
   "cell_type": "code",
   "execution_count": 7,
   "metadata": {},
   "outputs": [],
   "source": [
    "rows = [[wd.IntText(description='', layout=wd.Layout(width='50px')) for _ in range(5)] for _ in range(4)] #Создание таблички для ввода коэффициентов"
   ]
  },
  {
   "cell_type": "markdown",
   "metadata": {},
   "source": [
    "def gauss:\n",
    "\n",
    "|x<sub>1</sub>|x<sub>2</sub>|x<sub>3</sub>|x<sub>4</sub>|b|\n",
    "|---|---|---|---|---|\n",
    "|-2|-9|-3|7|-26|\n",
    "|-7|2|2|5|-25|\n",
    "|-6|2| | |-16|\n",
    "| |-3|8|-3|-5|"
   ]
  },
  {
   "cell_type": "code",
   "execution_count": 8,
   "metadata": {},
   "outputs": [
    {
     "data": {
      "application/vnd.jupyter.widget-view+json": {
       "model_id": "061fb26134a84486952fda6042c2ee17",
       "version_major": 2,
       "version_minor": 0
      },
      "text/plain": [
       "VBox(children=(Box(children=(IntText(value=0, layout=Layout(width='50px')), IntText(value=0, layout=Layout(wid…"
      ]
     },
     "metadata": {},
     "output_type": "display_data"
    }
   ],
   "source": [
    "#Вывод таблицы для ввода\n",
    "box_layout = wd.Layout(display='flex',\n",
    "                        flex_flow='row',\n",
    "                        align_items='stretch',\n",
    "                        width='100%')\n",
    "w_row_1 = wd.Box(children=rows[0], layout=box_layout)\n",
    "w_row_2 = wd.Box(children=rows[1], layout=box_layout)\n",
    "w_row_3 = wd.Box(children=rows[2], layout=box_layout)\n",
    "w_row_4 = wd.Box(children=rows[3], layout=box_layout)\n",
    "box = wd.VBox(children=[w_row_1, w_row_2, w_row_3, w_row_4])\n",
    "display(box)"
   ]
  },
  {
   "cell_type": "code",
   "execution_count": 11,
   "metadata": {},
   "outputs": [],
   "source": [
    "def gauss():\n",
    "    A = get_values_from_matrix(rows)\n",
    "    n, m = len(A), len(A[0])\n",
    "    if not check_matrix(A): return -1\n",
    "    #Прямой ход\n",
    "    for k in range(n):\n",
    "        select_leading_elem(A, k)\n",
    "        for i in range(k + 1, n):\n",
    "            f = float(A[i][k])/A[k][k]\n",
    "            for j in range(k, m):\n",
    "                A[i][j] -= A[k][j] * f\n",
    "        print_iteration(A, k+1) #Вывод изменений по итерациям\n",
    "    #Обратний ход\n",
    "    print(\"_________________________________________________________________________________________________________\")\n",
    "    x = []\n",
    "    for i in range(n - 1, -1, -1):\n",
    "        x.insert(0, A[i][n] / A[i][i])\n",
    "        A[i][n] = A[i][n] / A[i][i]\n",
    "        for k in range(i - 1, -1, -1):\n",
    "            A[k][n] -= A[k][i] * x[0]\n",
    "            A[k][i] = 0\n",
    "        A[i][i] = 1\n",
    "        print_iteration(A, 4-i)\n",
    "    return x"
   ]
  },
  {
   "cell_type": "code",
   "execution_count": 12,
   "metadata": {},
   "outputs": [
    {
     "data": {
      "text/markdown": [
       "#### Итерация 1  \n",
       "|**x<sub>1</sub>**|**x<sub>2</sub>**|**x<sub>3</sub>**|**x<sub>4</sub>**|**b**|\n",
       "|---|---|---|---|---|\n",
       "|-7|2|2|5|-25|\n",
       "|0.0|-9.571428571428571|-3.571428571428571|5.571428571428571|-18.857142857142858|\n",
       "|0.0|0.2857142857142858|-1.7142857142857142|-4.285714285714286|5.428571428571427|\n",
       "|0.0|-3.0|8.0|-3.0|-5.0|\n",
       "    "
      ],
      "text/plain": [
       "<IPython.core.display.Markdown object>"
      ]
     },
     "metadata": {},
     "output_type": "display_data"
    },
    {
     "data": {
      "text/markdown": [
       "#### Итерация 2  \n",
       "|**x<sub>1</sub>**|**x<sub>2</sub>**|**x<sub>3</sub>**|**x<sub>4</sub>**|**b**|\n",
       "|---|---|---|---|---|\n",
       "|-7|2|2|5|-25|\n",
       "|0.0|-9.571428571428571|-3.571428571428571|5.571428571428571|-18.857142857142858|\n",
       "|0.0|0.0|-1.8208955223880596|-4.119402985074626|4.865671641791043|\n",
       "|0.0|0.0|9.119402985074627|-4.746268656716418|0.91044776119403|\n",
       "    "
      ],
      "text/plain": [
       "<IPython.core.display.Markdown object>"
      ]
     },
     "metadata": {},
     "output_type": "display_data"
    },
    {
     "data": {
      "text/markdown": [
       "#### Итерация 3  \n",
       "|**x<sub>1</sub>**|**x<sub>2</sub>**|**x<sub>3</sub>**|**x<sub>4</sub>**|**b**|\n",
       "|---|---|---|---|---|\n",
       "|-7|2|2|5|-25|\n",
       "|0.0|-9.571428571428571|-3.571428571428571|5.571428571428571|-18.857142857142858|\n",
       "|0.0|0.0|9.119402985074627|-4.746268656716418|0.91044776119403|\n",
       "|0.0|0.0|0.0|-5.0671031096563|5.047463175122748|\n",
       "    "
      ],
      "text/plain": [
       "<IPython.core.display.Markdown object>"
      ]
     },
     "metadata": {},
     "output_type": "display_data"
    },
    {
     "data": {
      "text/markdown": [
       "#### Итерация 4  \n",
       "|**x<sub>1</sub>**|**x<sub>2</sub>**|**x<sub>3</sub>**|**x<sub>4</sub>**|**b**|\n",
       "|---|---|---|---|---|\n",
       "|-7|2|2|5|-25|\n",
       "|0.0|-9.571428571428571|-3.571428571428571|5.571428571428571|-18.857142857142858|\n",
       "|0.0|0.0|9.119402985074627|-4.746268656716418|0.91044776119403|\n",
       "|0.0|0.0|0.0|-5.0671031096563|5.047463175122748|\n",
       "    "
      ],
      "text/plain": [
       "<IPython.core.display.Markdown object>"
      ]
     },
     "metadata": {},
     "output_type": "display_data"
    },
    {
     "name": "stdout",
     "output_type": "stream",
     "text": [
      "_________________________________________________________________________________________________________\n"
     ]
    },
    {
     "data": {
      "text/markdown": [
       "#### Итерация 1  \n",
       "|**x<sub>1</sub>**|**x<sub>2</sub>**|**x<sub>3</sub>**|**x<sub>4</sub>**|**b**|\n",
       "|---|---|---|---|---|\n",
       "|-7|2|2|0|-20.019379844961243|\n",
       "|0.0|-9.571428571428571|-3.571428571428571|0|-13.307308970099669|\n",
       "|0.0|0.0|9.119402985074627|0|-3.8174245053800746|\n",
       "|0.0|0.0|0.0|1|-0.9961240310077517|\n",
       "    "
      ],
      "text/plain": [
       "<IPython.core.display.Markdown object>"
      ]
     },
     "metadata": {},
     "output_type": "display_data"
    },
    {
     "data": {
      "text/markdown": [
       "#### Итерация 2  \n",
       "|**x<sub>1</sub>**|**x<sub>2</sub>**|**x<sub>3</sub>**|**x<sub>4</sub>**|**b**|\n",
       "|---|---|---|---|---|\n",
       "|-7|2|0|0|-19.182170542635664|\n",
       "|0.0|-9.571428571428571|0|0|-14.80232558139535|\n",
       "|0.0|0.0|1|0|-0.4186046511627905|\n",
       "|0.0|0.0|0.0|1|-0.9961240310077517|\n",
       "    "
      ],
      "text/plain": [
       "<IPython.core.display.Markdown object>"
      ]
     },
     "metadata": {},
     "output_type": "display_data"
    },
    {
     "data": {
      "text/markdown": [
       "#### Итерация 3  \n",
       "|**x<sub>1</sub>**|**x<sub>2</sub>**|**x<sub>3</sub>**|**x<sub>4</sub>**|**b**|\n",
       "|---|---|---|---|---|\n",
       "|-7|0|0|0|-22.275193798449617|\n",
       "|0.0|1|0|0|1.5465116279069768|\n",
       "|0.0|0.0|1|0|-0.4186046511627905|\n",
       "|0.0|0.0|0.0|1|-0.9961240310077517|\n",
       "    "
      ],
      "text/plain": [
       "<IPython.core.display.Markdown object>"
      ]
     },
     "metadata": {},
     "output_type": "display_data"
    },
    {
     "data": {
      "text/markdown": [
       "#### Итерация 4  \n",
       "|**x<sub>1</sub>**|**x<sub>2</sub>**|**x<sub>3</sub>**|**x<sub>4</sub>**|**b**|\n",
       "|---|---|---|---|---|\n",
       "|1|0|0|0|3.1821705426356597|\n",
       "|0.0|1|0|0|1.5465116279069768|\n",
       "|0.0|0.0|1|0|-0.4186046511627905|\n",
       "|0.0|0.0|0.0|1|-0.9961240310077517|\n",
       "    "
      ],
      "text/plain": [
       "<IPython.core.display.Markdown object>"
      ]
     },
     "metadata": {},
     "output_type": "display_data"
    }
   ],
   "source": [
    "p = gauss()"
   ]
  },
  {
   "cell_type": "code",
   "execution_count": 13,
   "metadata": {},
   "outputs": [],
   "source": [
    "import numpy as np"
   ]
  },
  {
   "cell_type": "code",
   "execution_count": 14,
   "metadata": {},
   "outputs": [
    {
     "data": {
      "text/markdown": [
       "### x<sub>1</sub> = 3.1821705426356597\n",
       "### x<sub>2</sub> = 1.5465116279069768 \n",
       " ### x<sub>3</sub> = -0.4186046511627905 \n",
       " ### x<sub>4</sub> = -0.9961240310077517 "
      ],
      "text/plain": [
       "<IPython.core.display.Markdown object>"
      ]
     },
     "metadata": {},
     "output_type": "display_data"
    }
   ],
   "source": [
    "display(Markdown(f\"### x<sub>1</sub> = {p[0]}\\n\"\n",
    "f\"### x<sub>2</sub> = {p[1]} \\n ### x<sub>3</sub> = {p[2]} \\n ### x<sub>4</sub> = {p[3]} \"))"
   ]
  },
  {
   "cell_type": "code",
   "execution_count": 15,
   "metadata": {},
   "outputs": [
    {
     "name": "stdout",
     "output_type": "stream",
     "text": [
      "(4, 4) (4,)\n"
     ]
    },
    {
     "data": {
      "text/markdown": [
       "### x<sub>1</sub> = 3.1821705426356597\n",
       "### x<sub>2</sub> = 1.5465116279069768 \n",
       " ### x<sub>3</sub> = -0.4186046511627905 \n",
       " ### x<sub>4</sub> = -0.9961240310077517 "
      ],
      "text/plain": [
       "<IPython.core.display.Markdown object>"
      ]
     },
     "metadata": {},
     "output_type": "display_data"
    }
   ],
   "source": [
    "#Решение через библиотеку numpy\n",
    "A1 = np.array([])\n",
    "A1 = np.append(A1, get_values_from_matrix(rows))\n",
    "A1 = A1.reshape(4,5)\n",
    "b = A1[:, -1]\n",
    "A1 = A1[:, :-1]\n",
    "\n",
    "print(A1.shape, b.shape)\n",
    "x = np.linalg.solve(A1, b)\n",
    "display(Markdown(f\"### x<sub>1</sub> = {x[0]}\\n\"\n",
    "f\"### x<sub>2</sub> = {x[1]} \\n ### x<sub>3</sub> = {x[2]} \\n ### x<sub>4</sub> = {x[3]} \"))"
   ]
  },
  {
   "cell_type": "code",
   "execution_count": 19,
   "metadata": {},
   "outputs": [
    {
     "name": "stdout",
     "output_type": "stream",
     "text": [
      "[-26. -25. -16.  -5.]\n"
     ]
    }
   ],
   "source": [
    "B = np.dot(A1, p)\n",
    "print(B)"
   ]
  },
  {
   "cell_type": "code",
   "execution_count": null,
   "metadata": {},
   "outputs": [],
   "source": []
  }
 ],
 "metadata": {
  "kernelspec": {
   "display_name": "Python 3 (ipykernel)",
   "language": "python",
   "name": "python3"
  },
  "language_info": {
   "codemirror_mode": {
    "name": "ipython",
    "version": 3
   },
   "file_extension": ".py",
   "mimetype": "text/x-python",
   "name": "python",
   "nbconvert_exporter": "python",
   "pygments_lexer": "ipython3",
   "version": "3.8.12"
  }
 },
 "nbformat": 4,
 "nbformat_minor": 2
}
