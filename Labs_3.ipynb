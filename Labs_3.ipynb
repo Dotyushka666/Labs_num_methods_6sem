{
 "cells": [
  {
   "cell_type": "code",
   "execution_count": 1,
   "metadata": {},
   "outputs": [],
   "source": [
    "import ipywidgets as wd\n",
    "from IPython.display import display, Markdown"
   ]
  },
  {
   "cell_type": "code",
   "execution_count": 2,
   "metadata": {},
   "outputs": [
    {
     "data": {
      "application/vnd.jupyter.widget-view+json": {
       "model_id": "7efc79ff13a94f2c94a584624afb4fa0",
       "version_major": 2,
       "version_minor": 0
      },
      "text/plain": [
       "VBox(children=(Box(children=(IntText(value=0, layout=Layout(width='50px')), IntText(value=0, layout=Layout(wid…"
      ]
     },
     "metadata": {},
     "output_type": "display_data"
    }
   ],
   "source": [
    "#Вывод таблицы для ввода\n",
    "rows = [[wd.IntText(description='', layout=wd.Layout(width='50px')) for _ in range(5)] for _ in range(4)] #Создание таблички для ввода коэффициентов\n",
    "box_layout = wd.Layout(display='flex',\n",
    "                        flex_flow='row',\n",
    "                        align_items='stretch',\n",
    "                        width='100%')\n",
    "w_row_1 = wd.Box(children=rows[0], layout=box_layout)\n",
    "w_row_2 = wd.Box(children=rows[1], layout=box_layout)\n",
    "w_row_3 = wd.Box(children=rows[2], layout=box_layout)\n",
    "w_row_4 = wd.Box(children=rows[3], layout=box_layout)\n",
    "box = wd.VBox(children=[w_row_1, w_row_2, w_row_3, w_row_4])\n",
    "display(box)"
   ]
  },
  {
   "cell_type": "code",
   "execution_count": 4,
   "metadata": {},
   "outputs": [],
   "source": [
    "def print_iteration(x:list, n:int):\n",
    "    display(Markdown(f\"Итерация №{n}: x<sub>1</sub> = {x[0]}\\n\"\n",
    "f\"x<sub>2</sub> = {x[1]} \\n x<sub>3</sub> = {x[2]} \\n x<sub>4</sub> = {x[3]} \"))"
   ]
  },
  {
   "cell_type": "code",
   "execution_count": 5,
   "metadata": {},
   "outputs": [],
   "source": [
    "def get_values_from_matrix(rows:list) -> list:\n",
    "    A = []\n",
    "    temp = []\n",
    "    for row in rows:\n",
    "        for a in row:\n",
    "            temp.append(a.value)\n",
    "        A.append(temp.copy())\n",
    "        temp.clear()\n",
    "    return A\n",
    "#Оценка погрешности\n",
    "def betta(x:list, x_prev:list) -> float:\n",
    "    b = max([abs(x[i] - x_prev[i]) for i in range(len(x))])\n",
    "    return b\n",
    "#Метод простых итераций\n",
    "def simple_iteration(A:list, f:list, eps:int = 0.01):\n",
    "    x_prev = [0 for i in range(len(A))] #Нулевая итерация\n",
    "    x = f.copy()\n",
    "    iter = 1 #Счетчик для вывода\n",
    "    print_iteration(x, iter)\n",
    "    while betta(x, x_prev) > eps: #Проверка оценки погрешности\n",
    "        x_prev = x.copy()\n",
    "        x.clear()\n",
    "        #Поиск новых коэффициентов при новой итерации\n",
    "        for i in range(len(A)):\n",
    "            temp = 0\n",
    "            for j in range(len(A[i])):\n",
    "                temp += A[i][j] * x_prev[j]\n",
    "            temp += f[i]\n",
    "            x.append(temp)\n",
    "        iter += 1\n",
    "        print_iteration(x, iter) \n",
    "    return x"
   ]
  },
  {
   "cell_type": "markdown",
   "metadata": {},
   "source": [
    "f_matrix - матрица свободных коэффициентов  \n",
    "A - матрица вида  \n",
    "x1 = α11x1 + α12x2 + . . . + α1nxn + β1,  \n",
    "x2 = α21x1 + α22x2 + . . . + α2nxn + β2,  \n",
    ". . .  \n",
    "xn = αn1x1 + αn2x2 + . . . + αnnxn + βn,  "
   ]
  },
  {
   "cell_type": "code",
   "execution_count": 6,
   "metadata": {},
   "outputs": [],
   "source": [
    "def new_system(A:list):\n",
    "    if len(A) == 0 : return -1\n",
    "    f_matrix = [A[i].pop()/A[i][i] for i in range(len(A))]\n",
    "    for i in range(len(A)):\n",
    "        temp = A[i][i]\n",
    "        for j in range(len(A[i])):\n",
    "            A[i][j] = (-1) * A[i][j]/temp\n",
    "        A[i][i] = 0\n",
    "    return f_matrix"
   ]
  },
  {
   "cell_type": "code",
   "execution_count": 7,
   "metadata": {},
   "outputs": [
    {
     "data": {
      "text/markdown": [
       "Итерация №1: x<sub>1</sub> = 3.125\n",
       "x<sub>2</sub> = 0.14285714285714285 \n",
       " x<sub>3</sub> = 10.5 \n",
       " x<sub>4</sub> = 4.625 "
      ],
      "text/plain": [
       "<IPython.core.display.Markdown object>"
      ]
     },
     "metadata": {},
     "output_type": "display_data"
    },
    {
     "data": {
      "text/markdown": [
       "Итерация №2: x<sub>1</sub> = 2.4140625\n",
       "x<sub>2</sub> = 1.9553571428571428 \n",
       " x<sub>3</sub> = 8.626373626373626 \n",
       " x<sub>4</sub> = 0.9836309523809526 "
      ],
      "text/plain": [
       "<IPython.core.display.Markdown object>"
      ]
     },
     "metadata": {},
     "output_type": "display_data"
    },
    {
     "data": {
      "text/markdown": [
       "Итерация №3: x<sub>1</sub> = 3.7729581616300365\n",
       "x<sub>2</sub> = 2.023280105311355 \n",
       " x<sub>3</sub> = 9.394903273809524 \n",
       " x<sub>4</sub> = 2.080121050824176 "
      ],
      "text/plain": [
       "<IPython.core.display.Markdown object>"
      ]
     },
     "metadata": {},
     "output_type": "display_data"
    },
    {
     "data": {
      "text/markdown": [
       "Итерация №4: x<sub>1</sub> = 3.389309949490613\n",
       "x<sub>2</sub> = 2.128387562957875 \n",
       " x<sub>3</sub> = 8.825306204212454 \n",
       " x<sub>4</sub> = 1.9221444787851039 "
      ],
      "text/plain": [
       "<IPython.core.display.Markdown object>"
      ]
     },
     "metadata": {},
     "output_type": "display_data"
    },
    {
     "data": {
      "text/markdown": [
       "Итерация №5: x<sub>1</sub> = 3.3872250660580736\n",
       "x<sub>2</sub> = 2.0014956860398403 \n",
       " x<sub>3</sub> = 8.921403887933147 \n",
       " x<sub>4</sub> = 2.130049559950683 "
      ],
      "text/plain": [
       "<IPython.core.display.Markdown object>"
      ]
     },
     "metadata": {},
     "output_type": "display_data"
    },
    {
     "data": {
      "text/markdown": [
       "Итерация №6: x<sub>1</sub> = 3.3082788035132196\n",
       "x<sub>2</sub> = 1.9922384007111535 \n",
       " x<sub>3</sub> = 8.890232666148295 \n",
       " x<sub>4</sub> = 2.062116219039869 "
      ],
      "text/plain": [
       "<IPython.core.display.Markdown object>"
      ]
     },
     "metadata": {},
     "output_type": "display_data"
    },
    {
     "data": {
      "text/markdown": [
       "Итерация №7: x<sub>1</sub> = 3.334103237438594\n",
       "x<sub>2</sub> = 1.9896245974198832 \n",
       " x<sub>3</sub> = 8.925484632523041 \n",
       " x<sub>4</sub> = 2.0649122506649458 "
      ],
      "text/plain": [
       "<IPython.core.display.Markdown object>"
      ]
     },
     "metadata": {},
     "output_type": "display_data"
    },
    {
     "data": {
      "text/markdown": [
       "Итерация №8: x<sub>1</sub> = 3.3372864693994666\n",
       "x<sub>2</sub> = 1.9986237595484158 \n",
       " x<sub>3</sub> = 8.920268271963577 \n",
       " x<sub>4</sub> = 2.0531913486120468 "
      ],
      "text/plain": [
       "<IPython.core.display.Markdown object>"
      ]
     },
     "metadata": {},
     "output_type": "display_data"
    },
    {
     "data": {
      "text/markdown": [
       "Итерация №9: x<sub>1</sub> = 3.3417623189776764\n",
       "x<sub>2</sub> = 1.9994077562904358 \n",
       " x<sub>3</sub> = 8.921081131345241 \n",
       " x<sub>4</sub> = 2.0576625436840517 "
      ],
      "text/plain": [
       "<IPython.core.display.Markdown object>"
      ]
     },
     "metadata": {},
     "output_type": "display_data"
    },
    {
     "data": {
      "text/markdown": [
       "Конечный результат: x<sub>1</sub> = **3.3417623189776764** x<sub>2</sub> = **1.9994077562904358** x<sub>3</sub> = **8.921081131345241** x<sub>4</sub> = **2.0576625436840517** "
      ],
      "text/plain": [
       "<IPython.core.display.Markdown object>"
      ]
     },
     "metadata": {},
     "output_type": "display_data"
    }
   ],
   "source": [
    "a = get_values_from_matrix(rows)\n",
    "f = new_system(a)\n",
    "x_1 = simple_iteration(a, f, .01)\n",
    "display(Markdown(f\"Конечный результат: x<sub>1</sub> = **{x_1[0]}**\"\n",
    "f\" x<sub>2</sub> = **{x_1[1]}** x<sub>3</sub> = **{x_1[2]}** x<sub>4</sub> = **{x_1[3]}** \"))"
   ]
  },
  {
   "cell_type": "code",
   "execution_count": 8,
   "metadata": {},
   "outputs": [
    {
     "name": "stdout",
     "output_type": "stream",
     "text": [
      "(4, 4) (4,)\n"
     ]
    },
    {
     "data": {
      "text/markdown": [
       "#### x<sub>1</sub> = 3.339449006931097; x<sub>2</sub> = 1.9986409614227194; x<sub>3</sub> = 8.91931193818316; x<sub>4</sub> = 2.0582056807812528 "
      ],
      "text/plain": [
       "<IPython.core.display.Markdown object>"
      ]
     },
     "metadata": {},
     "output_type": "display_data"
    }
   ],
   "source": [
    "#Проверка\n",
    "import numpy as np\n",
    "A1 = np.array([])\n",
    "A1 = np.append(A1, get_values_from_matrix(rows))\n",
    "A1 = A1.reshape(4,5)\n",
    "b = A1[:, -1]\n",
    "A1 = A1[:, :-1]\n",
    "\n",
    "print(A1.shape, b.shape)\n",
    "x = np.linalg.solve(A1, b)\n",
    "display(Markdown(f\"#### x<sub>1</sub> = {x[0]};\"\n",
    "f\" x<sub>2</sub> = {x[1]}; x<sub>3</sub> = {x[2]}; x<sub>4</sub> = {x[3]} \"))"
   ]
  },
  {
   "cell_type": "code",
   "execution_count": 9,
   "metadata": {},
   "outputs": [],
   "source": [
    "#Метод Зейделя\n",
    "def method_Seidel(A:list, f:list, eps = .01):\n",
    "    x_prev = f.copy() #Нулевая итерация\n",
    "    x = f.copy()\n",
    "    iter = 1\n",
    "    print_iteration(x, iter)\n",
    "    while True:\n",
    "        for i in range(len(A)):\n",
    "            temp = 0\n",
    "            for j in range(len(A[i])):\n",
    "                temp += A[i][j] * x[j]\n",
    "            temp += f[i]\n",
    "            x[i] = temp\n",
    "        iter += 1\n",
    "        print_iteration(x, iter)\n",
    "        if betta(x, x_prev) < eps: return x\n",
    "        x_prev = x.copy()\n"
   ]
  },
  {
   "cell_type": "code",
   "execution_count": 10,
   "metadata": {},
   "outputs": [
    {
     "data": {
      "text/markdown": [
       "Итерация №1: x<sub>1</sub> = 3.125\n",
       "x<sub>2</sub> = 0.14285714285714285 \n",
       " x<sub>3</sub> = 10.5 \n",
       " x<sub>4</sub> = 4.625 "
      ],
      "text/plain": [
       "<IPython.core.display.Markdown object>"
      ]
     },
     "metadata": {},
     "output_type": "display_data"
    },
    {
     "data": {
      "text/markdown": [
       "Итерация №2: x<sub>1</sub> = 2.4140625\n",
       "x<sub>2</sub> = 1.9045758928571428 \n",
       " x<sub>3</sub> = 8.424300309065934 \n",
       " x<sub>4</sub> = 2.1432032323145602 "
      ],
      "text/plain": [
       "<IPython.core.display.Markdown object>"
      ]
     },
     "metadata": {},
     "output_type": "display_data"
    },
    {
     "data": {
      "text/markdown": [
       "Итерация №3: x<sub>1</sub> = 3.240386124495622\n",
       "x<sub>2</sub> = 1.873348613361736 \n",
       " x<sub>3</sub> = 8.939573218635049 \n",
       " x<sub>4</sub> = 2.0110293733935922 "
      ],
      "text/plain": [
       "<IPython.core.display.Markdown object>"
      ]
     },
     "metadata": {},
     "output_type": "display_data"
    },
    {
     "data": {
      "text/markdown": [
       "Итерация №4: x<sub>1</sub> = 3.3626213014696846\n",
       "x<sub>2</sub> = 2.0113773007562608 \n",
       " x<sub>3</sub> = 8.925107745196735 \n",
       " x<sub>4</sub> = 2.0611473625294296 "
      ],
      "text/plain": [
       "<IPython.core.display.Markdown object>"
      ]
     },
     "metadata": {},
     "output_type": "display_data"
    },
    {
     "data": {
      "text/markdown": [
       "Итерация №5: x<sub>1</sub> = 3.3388864970429664\n",
       "x<sub>2</sub> = 1.9994225005410224 \n",
       " x<sub>3</sub> = 8.918477825937464 \n",
       " x<sub>4</sub> = 2.0586669818289542 "
      ],
      "text/plain": [
       "<IPython.core.display.Markdown object>"
      ]
     },
     "metadata": {},
     "output_type": "display_data"
    },
    {
     "data": {
      "text/markdown": [
       "Итерация №6: x<sub>1</sub> = 3.3391429236920156\n",
       "x<sub>2</sub> = 1.9983744598461781 \n",
       " x<sub>3</sub> = 8.919297854211782 \n",
       " x<sub>4</sub> = 2.0581188299397946 "
      ],
      "text/plain": [
       "<IPython.core.display.Markdown object>"
      ]
     },
     "metadata": {},
     "output_type": "display_data"
    },
    {
     "data": {
      "text/plain": [
       "[3.3391429236920156, 1.9983744598461781, 8.919297854211782, 2.0581188299397946]"
      ]
     },
     "execution_count": 10,
     "metadata": {},
     "output_type": "execute_result"
    }
   ],
   "source": [
    "a_s = get_values_from_matrix(rows)\n",
    "f_s = new_system(a_s)\n",
    "x_2 = method_Seidel(a_s, f_s, .01)\n",
    "x_2"
   ]
  },
  {
   "cell_type": "code",
   "execution_count": 12,
   "metadata": {},
   "outputs": [
    {
     "name": "stdout",
     "output_type": "stream",
     "text": [
      "Относительная погрешность: [0.00069272 0.00038366 0.00019836 0.00026389]\n"
     ]
    }
   ],
   "source": [
    "np.set_printoptions(suppress=True)\n",
    "x_1 = np.array(x_1)\n",
    "\n",
    "print(f\"Относительная погрешность: {abs(x_1 - x)/abs(x)}\")"
   ]
  },
  {
   "cell_type": "code",
   "execution_count": 13,
   "metadata": {},
   "outputs": [
    {
     "name": "stdout",
     "output_type": "stream",
     "text": [
      "Относительная погрешность: [0.00009166 0.00013334 0.00000158 0.0000422 ]\n"
     ]
    }
   ],
   "source": [
    "np.set_printoptions(suppress=True)\n",
    "x_2 = np.array(x_2)\n",
    "\n",
    "print(f\"Относительная погрешность: {abs(x_2 - x)/abs(x)}\")"
   ]
  },
  {
   "cell_type": "code",
   "execution_count": 14,
   "metadata": {},
   "outputs": [
    {
     "data": {
      "text/plain": [
       "array([0.0026194 , 0.0010333 , 0.00178328, 0.00045629])"
      ]
     },
     "execution_count": 14,
     "metadata": {},
     "output_type": "execute_result"
    }
   ],
   "source": [
    "abs(x_1 - x_2)"
   ]
  },
  {
   "cell_type": "code",
   "execution_count": null,
   "metadata": {},
   "outputs": [],
   "source": []
  }
 ],
 "metadata": {
  "interpreter": {
   "hash": "9777fb61b55e1933eff332717eda7c0bd529e91992eea15ec22fe51e6d50818d"
  },
  "kernelspec": {
   "display_name": "Python 3.8.12 ('base')",
   "language": "python",
   "name": "python3"
  },
  "language_info": {
   "codemirror_mode": {
    "name": "ipython",
    "version": 3
   },
   "file_extension": ".py",
   "mimetype": "text/x-python",
   "name": "python",
   "nbconvert_exporter": "python",
   "pygments_lexer": "ipython3",
   "version": "3.9.7"
  },
  "orig_nbformat": 4
 },
 "nbformat": 4,
 "nbformat_minor": 2
}
