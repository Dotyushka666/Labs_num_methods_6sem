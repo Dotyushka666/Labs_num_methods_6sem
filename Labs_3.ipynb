{
 "cells": [
  {
   "cell_type": "code",
   "execution_count": 1,
   "metadata": {},
   "outputs": [],
   "source": [
    "import ipywidgets as wd\n",
    "from IPython.display import display, Markdown"
   ]
  },
  {
   "cell_type": "code",
   "execution_count": 2,
   "metadata": {},
   "outputs": [
    {
     "data": {
      "application/vnd.jupyter.widget-view+json": {
       "model_id": "eb65582924324df28130490e7b755b6c",
       "version_major": 2,
       "version_minor": 0
      },
      "text/plain": [
       "VBox(children=(Box(children=(IntText(value=0, layout=Layout(width='50px')), IntText(value=0, layout=Layout(wid…"
      ]
     },
     "metadata": {},
     "output_type": "display_data"
    }
   ],
   "source": [
    "#Вывод таблицы для ввода\n",
    "rows = [[wd.IntText(description='', layout=wd.Layout(width='50px')) for _ in range(5)] for _ in range(4)] #Создание таблички для ввода коэффициентов\n",
    "box_layout = wd.Layout(display='flex',\n",
    "                        flex_flow='row',\n",
    "                        align_items='stretch',\n",
    "                        width='100%')\n",
    "w_row_1 = wd.Box(children=rows[0], layout=box_layout)\n",
    "w_row_2 = wd.Box(children=rows[1], layout=box_layout)\n",
    "w_row_3 = wd.Box(children=rows[2], layout=box_layout)\n",
    "w_row_4 = wd.Box(children=rows[3], layout=box_layout)\n",
    "box = wd.VBox(children=[w_row_1, w_row_2, w_row_3, w_row_4])\n",
    "display(box)"
   ]
  },
  {
   "cell_type": "code",
   "execution_count": 95,
   "metadata": {},
   "outputs": [],
   "source": [
    "def print_iteration(x:list, n:int):\n",
    "    display(Markdown(f\"Итерация №{n}: x<sub>1</sub> = {x[0]}\\n\"\n",
    "f\"x<sub>2</sub> = {x[1]} \\n x<sub>3</sub> = {x[2]} \\n x<sub>4</sub> = {x[3]} \"))"
   ]
  },
  {
   "cell_type": "code",
   "execution_count": 96,
   "metadata": {},
   "outputs": [],
   "source": [
    "def get_values_from_matrix(rows:list) -> list:\n",
    "    A = []\n",
    "    temp = []\n",
    "    for row in rows:\n",
    "        for a in row:\n",
    "            temp.append(a.value)\n",
    "        A.append(temp.copy())\n",
    "        temp.clear()\n",
    "    return A\n",
    "#Оценка погрешности\n",
    "def betta(x:list, x_prev:list) -> float:\n",
    "    b = max([abs(x[i] - x_prev[i]) for i in range(len(x))])\n",
    "    return b\n",
    "#Метод простых итераций\n",
    "def simple_iteration(A:list, f:list, eps:int = 0.01):\n",
    "    x_prev = [0 for i in range(len(A))] #Нулевая итерация\n",
    "    x = f.copy()\n",
    "    iter = 1 #Счетчик для вывода\n",
    "    print_iteration(x, iter)\n",
    "    while betta(x, x_prev) > eps: #Проверка оценки погрешности\n",
    "        x_prev = x.copy()\n",
    "        x.clear()\n",
    "        #Поиск новых коэффициентов при новой итерации\n",
    "        for i in range(len(A)):\n",
    "            temp = 0\n",
    "            for j in range(len(A[i])):\n",
    "                temp += A[i][j] * x_prev[j]\n",
    "            temp += f[i]\n",
    "            x.append(temp)\n",
    "        iter += 1\n",
    "        print_iteration(x, iter) \n",
    "    return x"
   ]
  },
  {
   "cell_type": "markdown",
   "metadata": {},
   "source": [
    "f_matrix - матрица свободных коэффициентов  \n",
    "A - матрица вида  \n",
    "x1 = α11x1 + α12x2 + . . . + α1nxn + β1,  \n",
    "x2 = α21x1 + α22x2 + . . . + α2nxn + β2,  \n",
    ". . .  \n",
    "xn = αn1x1 + αn2x2 + . . . + αnnxn + βn,  "
   ]
  },
  {
   "cell_type": "code",
   "execution_count": 97,
   "metadata": {},
   "outputs": [],
   "source": [
    "def new_system(A:list):\n",
    "    if len(A) == 0 : return -1\n",
    "    f_matrix = [A[i].pop()/A[i][i] for i in range(len(A))]\n",
    "    for i in range(len(A)):\n",
    "        temp = A[i][i]\n",
    "        for j in range(len(A[i])):\n",
    "            A[i][j] = (-1) * A[i][j]/temp\n",
    "        A[i][i] = 0\n",
    "    return f_matrix"
   ]
  },
  {
   "cell_type": "code",
   "execution_count": 105,
   "metadata": {},
   "outputs": [
    {
     "data": {
      "text/markdown": [
       "Итерация №1: x<sub>1</sub> = 3.125\n",
       "x<sub>2</sub> = 0.14285714285714285 \n",
       " x<sub>3</sub> = 10.5 \n",
       " x<sub>4</sub> = 4.625 "
      ],
      "text/plain": [
       "<IPython.core.display.Markdown object>"
      ]
     },
     "metadata": {},
     "output_type": "display_data"
    },
    {
     "data": {
      "text/markdown": [
       "Итерация №2: x<sub>1</sub> = 1.1194196428571428\n",
       "x<sub>2</sub> = 1.9553571428571428 \n",
       " x<sub>3</sub> = 8.626373626373626 \n",
       " x<sub>4</sub> = 0.9836309523809526 "
      ],
      "text/plain": [
       "<IPython.core.display.Markdown object>"
      ]
     },
     "metadata": {},
     "output_type": "display_data"
    },
    {
     "data": {
      "text/markdown": [
       "Итерация №3: x<sub>1</sub> = 2.9390811011904763\n",
       "x<sub>2</sub> = 1.9308056155154367 \n",
       " x<sub>3</sub> = 9.643873054029305 \n",
       " x<sub>4</sub> = 1.9722341460622714 "
      ],
      "text/plain": [
       "<IPython.core.display.Markdown object>"
      ]
     },
     "metadata": {},
     "output_type": "display_data"
    },
    {
     "data": {
      "text/markdown": [
       "Итерация №4: x<sub>1</sub> = 2.503498263037186\n",
       "x<sub>2</sub> = 2.1375879979395602 \n",
       " x<sub>3</sub> = 9.032497207462868 \n",
       " x<sub>4</sub> = 1.7361724337170763 "
      ],
      "text/plain": [
       "<IPython.core.display.Markdown object>"
      ]
     },
     "metadata": {},
     "output_type": "display_data"
    },
    {
     "data": {
      "text/markdown": [
       "Итерация №5: x<sub>1</sub> = 2.632623059991224\n",
       "x<sub>2</sub> = 2.0091889298565455 \n",
       " x<sub>3</sub> = 9.140052371503721 \n",
       " x<sub>4</sub> = 1.9808354019394137 "
      ],
      "text/plain": [
       "<IPython.core.display.Markdown object>"
      ]
     },
     "metadata": {},
     "output_type": "display_data"
    },
    {
     "data": {
      "text/markdown": [
       "Итерация №6: x<sub>1</sub> = 2.5095331278835746\n",
       "x<sub>2</sub> = 2.0065078121873974 \n",
       " x<sub>3</sub> = 9.07404200912251 \n",
       " x<sub>4</sub> = 1.9191628481495098 "
      ],
      "text/plain": [
       "<IPython.core.display.Markdown object>"
      ]
     },
     "metadata": {},
     "output_type": "display_data"
    },
    {
     "data": {
      "text/markdown": [
       "Итерация №7: x<sub>1</sub> = 2.5361797304580143\n",
       "x<sub>2</sub> = 1.99238096135372 \n",
       " x<sub>3</sub> = 9.114832898561483 \n",
       " x<sub>4</sub> = 1.9329889602828727 "
      ],
      "text/plain": [
       "<IPython.core.display.Markdown object>"
      ]
     },
     "metadata": {},
     "output_type": "display_data"
    },
    {
     "data": {
      "text/markdown": [
       "Итерация №8: x<sub>1</sub> = 2.528364950045458\n",
       "x<sub>2</sub> = 2.0010500361126224 \n",
       " x<sub>3</sub> = 9.108702839190816 \n",
       " x<sub>4</sub> = 1.916381214249375 "
      ],
      "text/plain": [
       "<IPython.core.display.Markdown object>"
      ]
     },
     "metadata": {},
     "output_type": "display_data"
    },
    {
     "data": {
      "text/markdown": [
       "Итерация №9: x<sub>1</sub> = 2.536714473279976\n",
       "x<sub>2</sub> = 2.001550788508511 \n",
       " x<sub>3</sub> = 9.113009868056306 \n",
       " x<sub>4</sub> = 1.9201960235020543 "
      ],
      "text/plain": [
       "<IPython.core.display.Markdown object>"
      ]
     },
     "metadata": {},
     "output_type": "display_data"
    },
    {
     "data": {
      "text/markdown": [
       "Конечный результат: x<sub>1</sub> = **2.536714473279976** x<sub>2</sub> = **2.001550788508511** x<sub>3</sub> = **9.113009868056306** x<sub>4</sub> = **1.9201960235020543** "
      ],
      "text/plain": [
       "<IPython.core.display.Markdown object>"
      ]
     },
     "metadata": {},
     "output_type": "display_data"
    }
   ],
   "source": [
    "a = get_values_from_matrix(rows)\n",
    "f = new_system(a)\n",
    "x_1 = simple_iteration(a, f, .01)\n",
    "display(Markdown(f\"Конечный результат: x<sub>1</sub> = **{x_1[0]}**\"\n",
    "f\" x<sub>2</sub> = **{x_1[1]}** x<sub>3</sub> = **{x_1[2]}** x<sub>4</sub> = **{x_1[3]}** \"))"
   ]
  },
  {
   "cell_type": "code",
   "execution_count": 109,
   "metadata": {},
   "outputs": [
    {
     "name": "stdout",
     "output_type": "stream",
     "text": [
      "(4, 4) (4,)\n"
     ]
    },
    {
     "data": {
      "text/markdown": [
       "#### x<sub>1</sub> = 2.5351081862598464; x<sub>2</sub> = 2.0018612689866053; x<sub>3</sub> = 9.110506198690464; x<sub>4</sub> = 1.9202845082593816 "
      ],
      "text/plain": [
       "<IPython.core.display.Markdown object>"
      ]
     },
     "metadata": {},
     "output_type": "display_data"
    }
   ],
   "source": [
    "#Проверка\n",
    "import numpy as np\n",
    "A1 = np.array([])\n",
    "A1 = np.append(A1, get_values_from_matrix(rows))\n",
    "A1 = A1.reshape(4,5)\n",
    "b = A1[:, -1]\n",
    "A1 = A1[:, :-1]\n",
    "\n",
    "print(A1.shape, b.shape)\n",
    "x = np.linalg.solve(A1, b)\n",
    "display(Markdown(f\"#### x<sub>1</sub> = {x[0]};\"\n",
    "f\" x<sub>2</sub> = {x[1]}; x<sub>3</sub> = {x[2]}; x<sub>4</sub> = {x[3]} \"))"
   ]
  },
  {
   "cell_type": "code",
   "execution_count": 110,
   "metadata": {},
   "outputs": [],
   "source": [
    "#Метод Зейделя\n",
    "def method_Seidel(A:list, f:list, eps = .01):\n",
    "    x_prev = f.copy() #Нулевая итерация\n",
    "    x = f.copy()\n",
    "    iter = 1\n",
    "    print_iteration(x, iter)\n",
    "    while True:\n",
    "        for i in range(len(A)):\n",
    "            temp = 0\n",
    "            for j in range(len(A[i])):\n",
    "                temp += A[i][j] * x[j]\n",
    "            temp += f[i]\n",
    "            x[i] = temp\n",
    "        iter += 1\n",
    "        print_iteration(x, iter)\n",
    "        if betta(x, x_prev) < eps: return x\n",
    "        x_prev = x.copy()\n"
   ]
  },
  {
   "cell_type": "code",
   "execution_count": 111,
   "metadata": {},
   "outputs": [
    {
     "data": {
      "text/markdown": [
       "Итерация №1: x<sub>1</sub> = 3.125\n",
       "x<sub>2</sub> = 0.14285714285714285 \n",
       " x<sub>3</sub> = 10.5 \n",
       " x<sub>4</sub> = 4.625 "
      ],
      "text/plain": [
       "<IPython.core.display.Markdown object>"
      ]
     },
     "metadata": {},
     "output_type": "display_data"
    },
    {
     "data": {
      "text/markdown": [
       "Итерация №2: x<sub>1</sub> = 1.1194196428571428\n",
       "x<sub>2</sub> = 1.8121014030612246 \n",
       " x<sub>3</sub> = 8.691053645015698 \n",
       " x<sub>4</sub> = 1.9121652041225148 "
      ],
      "text/plain": [
       "<IPython.core.display.Markdown object>"
      ]
     },
     "metadata": {},
     "output_type": "display_data"
    },
    {
     "data": {
      "text/markdown": [
       "Итерация №3: x<sub>1</sub> = 2.5149403985790526\n",
       "x<sub>2</sub> = 1.9116979232415083 \n",
       " x<sub>3</sub> = 9.133909690847677 \n",
       " x<sub>4</sub> = 1.8872867132907527 "
      ],
      "text/plain": [
       "<IPython.core.display.Markdown object>"
      ]
     },
     "metadata": {},
     "output_type": "display_data"
    },
    {
     "data": {
      "text/markdown": [
       "Итерация №4: x<sub>1</sub> = 2.538274303340484\n",
       "x<sub>2</sub> = 2.0118164249501436 \n",
       " x<sub>3</sub> = 9.116866898673523 \n",
       " x<sub>4</sub> = 1.9206518778466712 "
      ],
      "text/plain": [
       "<IPython.core.display.Markdown object>"
      ]
     },
     "metadata": {},
     "output_type": "display_data"
    },
    {
     "data": {
      "text/markdown": [
       "Итерация №5: x<sub>1</sub> = 2.5361918565608494\n",
       "x<sub>2</sub> = 2.00324919977772 \n",
       " x<sub>3</sub> = 9.109931983591556 \n",
       " x<sub>4</sub> = 1.9209371274776674 "
      ],
      "text/plain": [
       "<IPython.core.display.Markdown object>"
      ]
     },
     "metadata": {},
     "output_type": "display_data"
    },
    {
     "data": {
      "text/plain": [
       "[2.5361918565608494, 2.00324919977772, 9.109931983591556, 1.9209371274776674]"
      ]
     },
     "execution_count": 111,
     "metadata": {},
     "output_type": "execute_result"
    }
   ],
   "source": [
    "a_s = get_values_from_matrix(rows)\n",
    "f_s = new_system(a_s)\n",
    "x_2 = method_Seidel(a_s, f_s, .01)\n",
    "x_2"
   ]
  },
  {
   "cell_type": "code",
   "execution_count": 113,
   "metadata": {},
   "outputs": [
    {
     "name": "stdout",
     "output_type": "stream",
     "text": [
      "Относительная погрешность: [0.00063362 0.00015510 0.00027481 0.00004608]\n"
     ]
    }
   ],
   "source": [
    "np.set_printoptions(suppress=True)\n",
    "x_1 = np.array(x_1)\n",
    "\n",
    "print(f\"Относительная погрешность: {abs(x_1 - x)/abs(x)}\")"
   ]
  },
  {
   "cell_type": "code",
   "execution_count": 112,
   "metadata": {},
   "outputs": [
    {
     "name": "stdout",
     "output_type": "stream",
     "text": [
      "Относительная погрешность: [0.00042747 0.00069332 0.00006303 0.00033986]\n"
     ]
    }
   ],
   "source": [
    "np.set_printoptions(suppress=True)\n",
    "x_2 = np.array(x_2)\n",
    "\n",
    "print(f\"Относительная погрешность: {abs(x_2 - x)/abs(x)}\")"
   ]
  },
  {
   "cell_type": "code",
   "execution_count": 114,
   "metadata": {},
   "outputs": [
    {
     "data": {
      "text/plain": [
       "array([0.00052262, 0.00169841, 0.00307788, 0.00074110])"
      ]
     },
     "execution_count": 114,
     "metadata": {},
     "output_type": "execute_result"
    }
   ],
   "source": [
    "abs(x_1 - x_2)"
   ]
  },
  {
   "cell_type": "code",
   "execution_count": null,
   "metadata": {},
   "outputs": [],
   "source": []
  }
 ],
 "metadata": {
  "interpreter": {
   "hash": "9777fb61b55e1933eff332717eda7c0bd529e91992eea15ec22fe51e6d50818d"
  },
  "kernelspec": {
   "display_name": "Python 3.8.12 ('base')",
   "language": "python",
   "name": "python3"
  },
  "language_info": {
   "codemirror_mode": {
    "name": "ipython",
    "version": 3
   },
   "file_extension": ".py",
   "mimetype": "text/x-python",
   "name": "python",
   "nbconvert_exporter": "python",
   "pygments_lexer": "ipython3",
   "version": "3.8.12"
  },
  "orig_nbformat": 4
 },
 "nbformat": 4,
 "nbformat_minor": 2
}
